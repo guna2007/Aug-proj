{
 "cells": [
  {
   "cell_type": "code",
   "execution_count": null,
   "id": "df271f3d",
   "metadata": {},
   "outputs": [],
   "source": [
    "import pandas as pd\n",
    "pd.set_option(\"display.max_columns\",37)\n",
    "df = pd.read_csv(\"../data/processed/final_ml_ready.csv\")"
   ]
  },
  {
   "cell_type": "code",
   "execution_count": null,
   "id": "44713ef5",
   "metadata": {},
   "outputs": [],
   "source": [
    "df.head(20)"
   ]
  },
  {
   "cell_type": "code",
   "execution_count": 3,
   "id": "45e1a343",
   "metadata": {},
   "outputs": [
    {
     "name": "stdout",
     "output_type": "stream",
     "text": [
      "order_id\n",
      "customer_id\n",
      "order_status\n",
      "customer_seller_distance_km\n",
      "is_delivered\n",
      "delivery_time_days\n",
      "is_late\n",
      "shipping_window_days\n",
      "promised_delivery_days\n",
      "approval_delay_days\n",
      "customer_unique_id\n",
      "customer_zip_code_prefix\n",
      "customer_city\n",
      "customer_state\n",
      "geolocation_zip_code_prefix_x\n",
      "order_item_id\n",
      "product_id\n",
      "seller_id\n",
      "price\n",
      "freight_value\n",
      "product_category_name\n",
      "product_name_lenght\n",
      "product_description_lenght\n",
      "product_photos_qty\n",
      "product_weight_g\n",
      "product_length_cm\n",
      "product_height_cm\n",
      "product_width_cm\n",
      "is_category_missing\n",
      "product_volume_cm3\n",
      "is_large_product\n",
      "seller_zip_code_prefix\n",
      "seller_city\n",
      "seller_state\n",
      "geolocation_zip_code_prefix_y\n",
      "payment_value\n",
      "payment_installments\n",
      "review_score\n",
      "has_review\n",
      "num_items\n",
      "total_price\n",
      "log_distance_seller_customer\n",
      "delivered_late\n"
     ]
    }
   ],
   "source": [
    "cols = df.columns.to_list()\n",
    "for col in cols:\n",
    "    print(col)"
   ]
  }
 ],
 "metadata": {
  "kernelspec": {
   "display_name": "pandasenv",
   "language": "python",
   "name": "python3"
  },
  "language_info": {
   "codemirror_mode": {
    "name": "ipython",
    "version": 3
   },
   "file_extension": ".py",
   "mimetype": "text/x-python",
   "name": "python",
   "nbconvert_exporter": "python",
   "pygments_lexer": "ipython3",
   "version": "3.11.5"
  }
 },
 "nbformat": 4,
 "nbformat_minor": 5
}
